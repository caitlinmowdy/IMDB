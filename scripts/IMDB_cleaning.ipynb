{
 "cells": [
  {
   "cell_type": "code",
   "execution_count": 1,
   "metadata": {
    "collapsed": true
   },
   "outputs": [],
   "source": [
    "import pandas as pd\n",
    "from bs4 import BeautifulSoup"
   ]
  },
  {
   "cell_type": "code",
   "execution_count": 2,
   "metadata": {
    "collapsed": false
   },
   "outputs": [],
   "source": [
    "movie_data = pd.read_json('../data/movies.json')\n",
    "movie_data = movie_data[movie_data['Budget'].isin([i for i in movie_data['Budget'] if \"$\"in i])]"
   ]
  },
  {
   "cell_type": "code",
   "execution_count": 3,
   "metadata": {
    "collapsed": true
   },
   "outputs": [],
   "source": [
    "def bs(x):\n",
    "    return BeautifulSoup(x, 'lxml').get_text()\n",
    "\n",
    "trans_table = ''.join( [chr(i) for i in range(128)] + ['?'] * 128 )\n",
    "def ascii(s):\n",
    "    if isinstance(s, unicode):\n",
    "        return s.encode('ascii', 'replace')\n",
    "    else:\n",
    "        return s.translate(trans_table)"
   ]
  },
  {
   "cell_type": "code",
   "execution_count": 4,
   "metadata": {
    "collapsed": true
   },
   "outputs": [],
   "source": [
    "movie_data['Director 1'] = [ascii(i[0]) for i in movie_data['Director']]\n",
    "movie_data['Director 2'] = [ascii(i[1]) if len(i) ==2 else \"\" for i in movie_data['Director']]\n",
    "\n",
    "movie_data['Writer 1'] = [ascii(i[0]) for i in movie_data['Writers']]\n",
    "movie_data['Writer 2'] = [ascii(i[1]) if len(i) >=2 else \"\" for i in movie_data['Writers']]\n",
    "movie_data['Writer 2'] = [ascii(i[2]) if len(i) ==3 else \"\" for i in movie_data['Writers']]\n",
    "\n",
    "movie_data['Star 1'] = [ascii(i[0]) if len(i) >=1 else \"\" for i in movie_data['Writers']]\n",
    "movie_data['Star 2'] = [ascii(i[1]) if len(i) >=2 else \"\" for i in movie_data['Writers']]\n",
    "movie_data['Star 3'] = [ascii(i[2]) if len(i) ==3 else \"\" for i in movie_data['Writers']]\n",
    "\n",
    "movie_data['Reviews'] = movie_data['Reviews'].str.replace(',','')\n",
    "movie_data['Score'] = movie_data['Score'].apply(pd.to_numeric)\n",
    "movie_data['Reviews'] = movie_data['Reviews'].apply(pd.to_numeric)\n",
    "movie_data['Genres2'] = [','.join([ascii(j) for j in i]) for i  in movie_data['Genres']]\n",
    "movie_data['Directors'] = [','.join([ascii(j) for j in i]) for i  in movie_data['Director']]\n",
    "movie_data['Stars'] = [','.join([ascii(j) for j in i]) for i  in movie_data['Stars']]\n",
    "movie_data['Writers'] = [','.join([ascii(j) for j in i]) for i  in movie_data['Writers']]\n",
    "movie_data['Storyline'] = [bs(i) for i in movie_data['Storyline']]\n",
    "movie_data['Plot_Summary'] = [bs(i) for i in movie_data['Plot_Summary']]\n",
    "movie_data['Budget($)'] = [i.replace(' ','').replace(\",\",'').replace('$','').split('(')[0] \n",
    "                           for i in movie_data['Budget']]\n",
    "movie_data['Budget($)'] = movie_data['Budget($)'].apply(pd.to_numeric)"
   ]
  },
  {
   "cell_type": "code",
   "execution_count": 5,
   "metadata": {
    "collapsed": true
   },
   "outputs": [],
   "source": [
    "gl = []\n",
    "for i in movie_data['Genres']:\n",
    "    for j in i:\n",
    "        gl.append(j.replace(' ',''))\n",
    "gl = list(set(gl))\n",
    "\n",
    "for g in gl:\n",
    "    movie_data[g] = [1 if g in i else 0 for i in movie_data['Genres2']]\n",
    "    \n",
    "del movie_data['Genres']\n",
    "del movie_data['Budget']\n",
    "del movie_data['Director']"
   ]
  },
  {
   "cell_type": "code",
   "execution_count": 9,
   "metadata": {
    "collapsed": false
   },
   "outputs": [],
   "source": [
    "movie_data.to_json('./data/movies_cleaned.json')"
   ]
  },
  {
   "cell_type": "code",
   "execution_count": null,
   "metadata": {
    "collapsed": true
   },
   "outputs": [],
   "source": []
  }
 ],
 "metadata": {
  "anaconda-cloud": {},
  "kernelspec": {
   "display_name": "Python [conda env:swcm]",
   "language": "python",
   "name": "conda-env-swcm-py"
  },
  "language_info": {
   "codemirror_mode": {
    "name": "ipython",
    "version": 2
   },
   "file_extension": ".py",
   "mimetype": "text/x-python",
   "name": "python",
   "nbconvert_exporter": "python",
   "pygments_lexer": "ipython2",
   "version": "2.7.12"
  }
 },
 "nbformat": 4,
 "nbformat_minor": 1
}
