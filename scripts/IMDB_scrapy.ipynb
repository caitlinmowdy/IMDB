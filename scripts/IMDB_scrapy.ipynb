{
 "cells": [
  {
   "cell_type": "code",
   "execution_count": 1,
   "metadata": {
    "collapsed": false
   },
   "outputs": [],
   "source": [
    "import pandas as pd\n",
    "from scrapy.selector import Selector\n",
    "from scrapy.http import HtmlResponse\n",
    "import requests\n",
    "import sys\n",
    "import warnings\n",
    "if not sys.warnoptions:\n",
    "    warnings.simplefilter(\"ignore\")"
   ]
  },
  {
   "cell_type": "code",
   "execution_count": 43,
   "metadata": {
    "collapsed": false
   },
   "outputs": [],
   "source": [
    "# gets top 200 movies for every genre \n",
    "\n",
    "movie_list = []\n",
    "\n",
    "response = requests.get('http://www.imdb.com/chart/top?ref_=nv_mv')\n",
    "HTML = response.text\n",
    "genres = Selector(text=HTML).xpath(\"//ul[@class='quicklinks ']/li[@class='subnav_item_main']/a/@href\").extract()\n",
    "\n",
    "for link in genres:\n",
    "    \n",
    "    response = requests.get('http://www.imdb.com'+link)\n",
    "    HTML = response.text\n",
    "    movies = Selector(text=HTML).xpath(\"//h3[@class='lister-item-header']/a/@href\").extract()\n",
    "    \n",
    "    response = requests.get('http://www.imdb.com'+link.replace(\"ref_=chttp_gnr_1\",'&page=2&ref_=adv_nxt'))\n",
    "    HTML = response.text\n",
    "    movies2 = Selector(text=HTML).xpath(\"//h3[@class='lister-item-header']/a/@href\").extract()\n",
    "    \n",
    "    response = requests.get('http://www.imdb.com'+link.replace(\"ref_=chttp_gnr_1\",'&page=3&ref_=adv_nxt'))\n",
    "    HTML = response.text\n",
    "    movies3 = Selector(text=HTML).xpath(\"//h3[@class='lister-item-header']/a/@href\").extract()\n",
    "    \n",
    "    response = requests.get('http://www.imdb.com'+link.replace(\"ref_=chttp_gnr_1\",'&page=4&ref_=adv_nxt'))\n",
    "    HTML = response.text\n",
    "    movies4 = Selector(text=HTML).xpath(\"//h3[@class='lister-item-header']/a/@href\").extract()\n",
    "    \n",
    "    movie_list = list(set(movie_list + movies + movies2 + movies3 + movies4))"
   ]
  },
  {
   "cell_type": "code",
   "execution_count": 44,
   "metadata": {
    "collapsed": false
   },
   "outputs": [],
   "source": [
    "# goes through movie list and collects data from the movies page \n",
    "# appends movie data to movie_data dataframe \n",
    "\n",
    "movie_data = pd.DataFrame(columns = ['Link','Title','Score','Reviews','Plot_Summary',\"Director\",\"Writers\",\"Stars\",\n",
    "                                    \"Storyline\",'Genres','Budget', \"Date\"])\n",
    "\n",
    "for i, movie in enumerate(movie_list):\n",
    "    df = pd.DataFrame()\n",
    "    \n",
    "    response = requests.get('http://www.imdb.com' + movie)\n",
    "    HTML = response.text\n",
    "    \n",
    "    movie_link = 'http://www.imdb.com' + movie\n",
    "    title = Selector(text=HTML).xpath(\"//div[@class='titleBar']/div[@class='title_wrapper']/h1/text()\").extract()[0]\n",
    "    score = Selector(text=HTML).xpath(\"//strong/span/text()\").extract()[0]\n",
    "    reviews = Selector(text=HTML).xpath(\"//div[@class='imdbRating']/a/span[@class='small']/text()\").extract()[0]\n",
    "    plot_summary = Selector(text=HTML).xpath(\"//div[@class='summary_text']/text()\").extract()[0].replace(\"\\n\",'')\n",
    "    director = Selector(text=HTML).xpath(\"//div[@class='credit_summary_item'][1]/span/a/span[@class='itemprop']/text()\").extract()\n",
    "    writers = Selector(text=HTML).xpath(\"//div[@class='credit_summary_item'][2]/span/a/span[@class='itemprop']/text()\").extract()\n",
    "    stars = Selector(text=HTML).xpath(\"//div[@class='credit_summary_item'][3]/span/a/span[@class='itemprop']/text()\").extract()\n",
    "    storyline = Selector(text=HTML).xpath(\"//div[@class='inline canwrap']/p/text()\").extract()[0].replace(\"\\n\",'')\n",
    "    genres = Selector(text=HTML).xpath(\"//div[@class='see-more inline canwrap'][2]/a/text()\").extract()\n",
    "    budget = Selector(text=HTML).xpath(\"//div[@class='txt-block'][7]/text()\").extract()[1].replace(\"\\n\",'')\n",
    "    date = Selector(text=HTML).xpath(\"//div[@class='titleBar']/div[@class='title_wrapper']/div[@class='subtext']/a/text()\").extract()[0].replace(\"\\n\",'').split(\" (\")[0]\n",
    "    \n",
    "    movie_data = movie_data.append({'Link':movie_link, \"Title\": title, \"Score\": score, \n",
    "                                    \"Reviews\": reviews, 'Plot_Summary': plot_summary,\n",
    "                                   \"Director\": director, \"Writers\":writers, \"Stars\":stars,\n",
    "                                   \"Storyline\":storyline, \"Genres\":genres, \"Budget\": budget,\n",
    "                                   \"Date\": date}, ignore_index = True)\n",
    "    \n",
    "    if i%10 == 0:\n",
    "        sys.stdout.write('\\r'+ str((float(i)/len(movie_list))*100)+'%')"
   ]
  },
  {
   "cell_type": "code",
   "execution_count": 330,
   "metadata": {
    "collapsed": false
   },
   "outputs": [],
   "source": [
    "# movie_data.to_excel('/Users/caitlin.mowdy/Desktop/movies3.json')"
   ]
  },
  {
   "cell_type": "code",
   "execution_count": null,
   "metadata": {
    "collapsed": true
   },
   "outputs": [],
   "source": []
  }
 ],
 "metadata": {
  "anaconda-cloud": {},
  "kernelspec": {
   "display_name": "Python [default]",
   "language": "python",
   "name": "python2"
  },
  "language_info": {
   "codemirror_mode": {
    "name": "ipython",
    "version": 2
   },
   "file_extension": ".py",
   "mimetype": "text/x-python",
   "name": "python",
   "nbconvert_exporter": "python",
   "pygments_lexer": "ipython2",
   "version": "2.7.12"
  }
 },
 "nbformat": 4,
 "nbformat_minor": 2
}
