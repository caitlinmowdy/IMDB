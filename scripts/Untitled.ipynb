{
 "cells": [
  {
   "cell_type": "code",
   "execution_count": 1,
   "metadata": {
    "collapsed": true
   },
   "outputs": [],
   "source": [
    "import datetime as dt\n",
    "from datetime import date, timedelta\n",
    "import pandas as pd\n",
    "from ftplib import FTP\n",
    "import pysftp\n",
    "import gzip\n",
    "import StringIO\n",
    "import paramiko"
   ]
  },
  {
   "cell_type": "code",
   "execution_count": 7,
   "metadata": {
    "collapsed": false
   },
   "outputs": [
    {
     "name": "stdout",
     "output_type": "stream",
     "text": [
      "2018-04-15\n",
      "2018-04-21\n"
     ]
    }
   ],
   "source": [
    "today = dt.date.today()\n",
    "\n",
    "for d in range(15):\n",
    "    s = today - timedelta(d)\n",
    "    if (s.weekday() == 6) and ((today - s).days >= 6):\n",
    "        start = s.strftime(\"%Y-%m-%d\")\n",
    "        end = (s + timedelta(6)).strftime(\"%Y-%m-%d\")\n",
    "        break\n",
    "        \n",
    "print start\n",
    "print end\n"
   ]
  },
  {
   "cell_type": "code",
   "execution_count": null,
   "metadata": {
    "collapsed": true
   },
   "outputs": [],
   "source": [
    "import pandas as pd\n",
    "\n",
    "def aw_dd():\n",
    "    df1 = pd.read_csv('./data_out/Keyword_Report_7783329500.csv', header=1, skip_footer=1)\n",
    "    df2 = pd.read_csv('./data_out/Keyword_Report_3997006641.csv', header=1, skip_footer=1)\n",
    "    df_aw = df1.append(df2)\n",
    "    df_aw = pd.read_csv(file, header = 1, skipfooter=1)\n",
    "    df_aw = df_aw[df_aw['Day'] != \"Total\"]\n",
    "\n",
    "    df_aw['MSC Code'] = ['NOS-20-T-SE' if \"2018\" not in i\n",
    "                        else 'NOS-20-T-SNB18' if \"Non-Brand\" in i\n",
    "                        else 'NOS-20-T-SB18' if \"Brand T1\" in i\n",
    "                        else 'NOS-20-T-SB218' if \"Brand T2\" in i\n",
    "                        else '?' for i in (df_aw['Campaign'] + '_' + df_aw['Day'])]\n",
    "    df_aw['Keyword'] = \" \" + df_aw['Keyword']\n",
    "    df_aw['Cost'] = df_aw['Cost']/1000000\n",
    "    df_aw['Day'] = pd.to_datetime(df_aw['Day'])\n",
    "    df_aw['Day'] = [i.strftime(\"%Y-%m-%d\") for i in df_aw['Day']]\n",
    "    df_aw.columns = [i.replace(\" \", \"_\").replace(\"-\", \"_\") for i in df_aw.columns]\n",
    "\n",
    "    if len([i for i in df_aw['MSC_Code'] if '?' in i]) >0:\n",
    "        return \"\\nAdwords Not Cleaned.\\nThe following Adword placement_creatives need MSC Codes. \\nPlease edit the AW script and run again.\\n\" + str([i for i in df_aw['MSC_Code'] if '?' in i]), df_aw\n",
    "    elif len([i for i in df_aw['MSC_Code'] if '?' in i]) == 0:\n",
    "        return \"\\nAdwords Cleaned\", df_aw\n",
    "        # push to SQL"
   ]
  }
 ],
 "metadata": {
  "kernelspec": {
   "display_name": "Python 2",
   "language": "python",
   "name": "python2"
  },
  "language_info": {
   "codemirror_mode": {
    "name": "ipython",
    "version": 2
   },
   "file_extension": ".py",
   "mimetype": "text/x-python",
   "name": "python",
   "nbconvert_exporter": "python",
   "pygments_lexer": "ipython2",
   "version": "2.7.13"
  }
 },
 "nbformat": 4,
 "nbformat_minor": 1
}
